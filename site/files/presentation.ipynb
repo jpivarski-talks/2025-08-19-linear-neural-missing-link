{
 "cells": [
  {
   "cell_type": "code",
   "execution_count": null,
   "id": "ee2acf12-04ce-4c28-ba09-eb0afce60c8b",
   "metadata": {},
   "outputs": [],
   "source": [
    "%%html\n",
    "\n",
    "<style>\n",
    ".jp-MarkdownOutput {\n",
    "    font-size: 2.5em !important;\n",
    "}\n",
    ".jp-MarkdownOutput table {\n",
    "    font-size: 0.75em !important;\n",
    "}\n",
    ".jp-OutputArea-output pre {\n",
    "    font-size: 2em !important;\n",
    "}\n",
    ".cm-content {\n",
    "    font-size: 2em !important;\n",
    "}\n",
    ".page-id-xx, html {\n",
    "    scrollbar-width: none; /* FF */\n",
    "}\n",
    "::-webkit-scrollbar {\n",
    "    width: 0px; /* Chrome & Edge */\n",
    "}\n",
    ".jp-Notebook.jp-mod-commandMode .jp-Cell.jp-mod-selected {\n",
    "    background: none;\n",
    "}\n",
    "</style>"
   ]
  }
 ],
 "metadata": {
  "kernelspec": {
   "display_name": "Python 3 (ipykernel)",
   "language": "python",
   "name": "python3"
  },
  "language_info": {
   "codemirror_mode": {
    "name": "ipython",
    "version": 3
   },
   "file_extension": ".py",
   "mimetype": "text/x-python",
   "name": "python",
   "nbconvert_exporter": "python",
   "pygments_lexer": "ipython3",
   "version": "3.12.11"
  }
 },
 "nbformat": 4,
 "nbformat_minor": 5
}
